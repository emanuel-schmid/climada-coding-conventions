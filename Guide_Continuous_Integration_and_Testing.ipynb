{
 "cells": [
  {
   "cell_type": "markdown",
   "metadata": {},
   "source": [
    "# Testing and Continuous Integration"
   ]
  },
  {
   "cell_type": "markdown",
   "metadata": {},
   "source": [
    "### Content\n",
    "\n",
    "1. [Testing](#Test)\n",
    "    1. [Basic Test Procedure](#TestBasic)\n",
    "    2. [Testing Types](#TestType)\n",
    "    3. [Unit Tests](#TestUnit)\n",
    "    4. [Integration Tests](#TestInteg)\n",
    "    5. [System Tests](#TestSystem)\n",
    "    6. [Test Configuration](#TestConfig)\n",
    "2. [Continuous Integration](#CI)\n",
    "    1. [Automated Tests](#CITest)\n",
    "    2. [Test Coverage](#CICover)\n",
    "    3. [Static Code Analysis](#CIStat)\n",
    "    4. [Jenkins Projects](#CIProj)"
   ]
  },
  {
   "cell_type": "markdown",
   "metadata": {},
   "source": [
    "##  1. <a id=\"Test\"> Testing </a>\n",
    "Any programming code that is meant to be used more than once should have a test, i.e., an additional piece of programming code that is able to check whether the original code is doing what it's supposed to do.\n",
    "\n",
    "Writing tests is work. As a matter of facts, it can be a _lot_ of work, depending on the program often more than writing the original code.\\\n",
    "Luckily, it essentially follows always the same basic procedure and a there are a lot of tools and frameworks available to facilitate this work.\n",
    "\n",
    "In CLIMADA we use the Python in-built _test runner_ [unittest](https://docs.python.org/3/library/unittest.html) for execution of the tests and the [Jenkins](https://www.jenkins.io/) framework for _continuous integration_, i.e., automated test execution and code analysis."
   ]
  },
  {
   "cell_type": "markdown",
   "metadata": {},
   "source": [
    "###  1.A. <a id=\"TestBasic\"> Basic Test Procedure </a>\n",
    "* __Test data setup__ \\\n",
    "  Creating suitable test data is crucial, but not always trivial. It should be extensive enough to cover all functional requirements and yet as small as possible in order to save resources, both in space and time.\n",
    "* __Code execution__ \\\n",
    "  The main goal of a test is to find bugs _before_ the user encounters them. Ultimately every single line of the program should be subject to test.\\\n",
    "  In order to achieve this, it is necessary to run the code with respect to the whole parameter space. In practice that means that even a simple method may require a lot of test code.\\\n",
    "  (Bear this in mind when designing methods of functions: <i style=\"color:darkred;\">the number of parameters increases the number of required tests exponentially!</i>)\n",
    "* __Result validation__ \\\n",
    "  After the code was executed the _actual_ result is compared to the _expected_ result. The expected result depends on test data, state and parametrization.\\\n",
    "  Therefore result validation can be very extensive. It most cases won't be practical to validate every single byte. Nevertheless attention should be paid to validate a range of results that is wide enough to discover as many thinkable discrepancies as possible."
   ]
  },
  {
   "cell_type": "markdown",
   "metadata": {},
   "source": [
    "###  1.B. <a id=\"TestTypes\"> Testing types </a>\n",
    "Despite the common basic procedure there are many different kinds of tests distinguished. (See [WikiPedia:Software testing](#https://en.wikipedia.org/wiki/Software_testing)). Very often a distinction is made based on levels: \n",
    "- __Unit Test__: tests only a small part of the code, a single function or method, essentially without interaction between modules\n",
    "- __Integration Test__: tests whether different methods and modules work well with each other\n",
    "- __System Test__: tests the whole software at once, using the exposed interface to execute a program"
   ]
  },
  {
   "cell_type": "markdown",
   "metadata": {},
   "source": [
    "###  2.D. <a id=\"CIProjects\"> Jenkins Projects </a>\n",
    "\n",
    "\n",
    "        1. [climada_install_env](#CIInstall)\n",
    "        2. [climada_branches](#CIBranches)\n",
    "        3. [climada_ci_night](#CINight)\n",
    "        4. [climada_data_api](#CIAPI)\n",
    "        5. [climada_notebooks](#CINotebooks)"
   ]
  }
 ],
 "metadata": {
  "kernelspec": {
   "display_name": "Python 3.7.3 64-bit ('climada': conda)",
   "language": "python",
   "name": "python37364bitclimadaconda2bcabf5424a143ed8fd9177a65a9f185"
  },
  "language_info": {
   "codemirror_mode": {
    "name": "ipython",
    "version": 3
   },
   "file_extension": ".py",
   "mimetype": "text/x-python",
   "name": "python",
   "nbconvert_exporter": "python",
   "pygments_lexer": "ipython3",
   "version": "3.7.8"
  }
 },
 "nbformat": 4,
 "nbformat_minor": 4
}
