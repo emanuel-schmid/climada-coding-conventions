{
 "cells": [
  {
   "cell_type": "markdown",
   "metadata": {},
   "source": [
    "# Constants and Configuration"
   ]
  },
  {
   "cell_type": "markdown",
   "metadata": {},
   "source": [
    "### Content\n",
    "\n",
    "1. [Constants](#Const)\n",
    "    1. [Hard Coded](#ConstHard)\n",
    "    2. [Conigurable](#ConstConf)\n",
    "    3. [Where to put constants?](#ConstWhere)\n",
    "2. [Configuration](#Conf)\n",
    "    1. [Config files](#ConfFiles)\n",
    "    2. [Accessing configuration values](#ConfAccess)\n",
    "    3. [Default Configuration](#ConfDefault)\n"
   ]
  },
  {
   "cell_type": "markdown",
   "metadata": {},
   "source": [
    "##  1. <a id='Const'> Constants </a>\n",
    "Constants are values that, once initialized, are never changed during the runtime of a program. In Python constants are assigned to variables with capital letters by convention, and vice versa, variables with capital letters are supposed to be constants.\n",
    "\n",
    "In principle there are about four ways to define a constant's value:\n",
    "- _hard coding_: the value is defined in the python code directly\n",
    "- _argument_: the value is taken from an execution argument\n",
    "- _context_: the value is derived from the environmental context of the exection, e.g., the current working directory or the date-time of execution start.\n",
    "- _configuation_: read from a file or database\n",
    "\n",
    "In CLIMADA, we only use _hard coding_ and _configuration_ to assign values to constants."
   ]
  },
  {
   "cell_type": "markdown",
   "metadata": {},
   "source": [
    "###  1.A. <a id='ConstHard'> Hard Coded </a>\n",
    "Hard coding constants is the prefered way to deal with strings that are used in several locations, e.g. to identify objects or files."
   ]
  },
  {
   "cell_type": "code",
   "execution_count": 15,
   "metadata": {},
   "outputs": [
    {
     "name": "stdout",
     "output_type": "stream",
     "text": [
      "well, arh, ...\n"
     ]
    }
   ],
   "source": [
    "# suboptimal\n",
    "my_dict = {'x': 4}\n",
    "if my_dict['x'] > 3:\n",
    "    print('well, arh, ...')"
   ]
  },
  {
   "cell_type": "code",
   "execution_count": 14,
   "metadata": {},
   "outputs": [
    {
     "name": "stdout",
     "output_type": "stream",
     "text": [
      "yeah!\n"
     ]
    }
   ],
   "source": [
    "# good\n",
    "X = 'x'\n",
    "my_dict = {X: 4}\n",
    "if my_dict[X] > 3:\n",
    "    print('yeah!')"
   ]
  },
  {
   "cell_type": "code",
   "execution_count": 17,
   "metadata": {},
   "outputs": [
    {
     "name": "stdout",
     "output_type": "stream",
     "text": [
      "this doesn't mean that every string must be a constant\n"
     ]
    }
   ],
   "source": [
    "# possibly overdoing it\n",
    "X = 'x'\n",
    "Y = \"this doesn't mean that every string must be a constant\"\n",
    "my_dict = {X: 4}\n",
    "if my_dict[X] > 3:\n",
    "    print(Y)"
   ]
  },
  {
   "cell_type": "code",
   "execution_count": 25,
   "metadata": {},
   "outputs": [
    {
     "name": "stdout",
     "output_type": "stream",
     "text": [
      "this wouldn't work\n",
      "this would but it's less pretty\n",
      "sometimes constants are pretty useless\n"
     ]
    }
   ],
   "source": [
    "import pandas as pd\n",
    "X = 'x'\n",
    "df = pd.DataFrame({'x':[1,2,3], 'y':[4,5,6]})\n",
    "try:\n",
    "    df.X\n",
    "except AttributeError:\n",
    "    print(\"this wouldn't work\")\n",
    "    df[X]\n",
    "    print(\"this would but it's less pretty\")\n",
    "try:\n",
    "    df.x\n",
    "    print(\"sometimes constants are pretty useless\")\n",
    "except:\n",
    "    pass"
   ]
  },
  {
   "cell_type": "markdown",
   "metadata": {},
   "source": [
    "###  1.B. <a id='ConstConf'> Configurable </a>\n",
    "When it comes to absolute pathes, it is urgently suggested to not use hard coded constant values, for the obvious reasons. But also relative pathes can cause problemns. In particular, they may point to a location where the user has not sufficient access permissions. In order to avoid these problems, _all_ pathes constants in CLIMADA are supposed to be defined through configuration.\n",
    "\n",
    "The same applies tu urls to external resources, databases or websites. Since they may change at any time, there addresses are supposed to be defined through configuration. Like this it will be possible to access them without the need of tampering with the source code or waiting for a new release.\n",
    "\n",
    "Another category of constants that should go into the configuration file are system specifications, such as number of CPU's available for CLIMADA or memory settings."
   ]
  },
  {
   "cell_type": "markdown",
   "metadata": {},
   "source": [
    "###  1.C. <a id='ConstWhere'> Where to put constants? </a>\n",
    "As a general rule constants are defined in the module where they intrinsically belong to. If they belong equally to different modules though or they are meant to be used globally, there is the module `climada.util.constants` which is compiling constants CLIMADA wide."
   ]
  },
  {
   "cell_type": "markdown",
   "metadata": {},
   "source": [
    "##  2. <a id='Conf'> Configuration </a>\n",
    "In CLIMADA all constants that are not hard coded are defined in configuration files. These are, generally spoken, all constants that a user may want (or need) to change without changing the CLIMADA installation.\\\n",
    "We have tried to make the configuration of CLIMADA flexible, transparent, easy to define and easy to use."
   ]
  },
  {
   "cell_type": "markdown",
   "metadata": {},
   "source": [
    "###  2.A. <a id='ConfFiles'> Configuration Files </a>\n",
    "Configuration files are files in _json_ format with the name `climada.conf` in json format. One can have several of them, complementing one another. CLIMADA looks for configuration files upon `import climada`.\n",
    "\n",
    "The first place to look for a configuration file is `climada/conf/` within the installation directory, then `~/climada/` is checked and at last the current working directory. At each of the three locations, the path is followed upwards until the root of the path is reached. When ever a `climada.conf` file is found it is taken into account. When two config files are defining the same value, the priorities are:\\\n",
    "`./climada.conf` \\\n",
    "\\> `../climada.conf` \\\n",
    "\\> `../../climada.conf` \\\n",
    "\\> `~/climada/climada.conf` \\\n",
    "\\> `~/climada.conf` \\\n",
    "\\> `installation_dir/climada/conf/climada.conf`"
   ]
  },
  {
   "cell_type": "code",
   "execution_count": 12,
   "metadata": {},
   "outputs": [],
   "source": [
    "from climada import CONFIG"
   ]
  },
  {
   "cell_type": "code",
   "execution_count": 10,
   "metadata": {},
   "outputs": [
    {
     "data": {
      "text/plain": [
       "{'_root': {_comment: this is the climada default configuration, it will be (partially) superseded by the first climada.conf files that are present in the user's home directory and the working directory or its parent directories, local_data: {system: ~/climada/data, demo: ~/climada/demo/data, save_dir: ./results}, exposures: {crop_production: {local_data: ~/climada/data/ISIMIP_crop}, litpop: {resources: {world_bank_inc_group: http://databank.worldbank.org/data/download/site-content/OGHIST.xls}}, spam_agrar: {resources: {spam2005_api_access: https://dataverse.harvard.edu/api/access/datafile/:persistentId?persistentId=doi:10.7910/DVN/DHXBJX/, spam2005_dataset: https://dataverse.harvard.edu/dataset.xhtml?persistentId=doi:10.7910/DVN/DHXBJX}}}, hazard: {drought: {resources: {spei_file_url: http://digital.csic.es/bitstream/10261/153475/8}}, landslide: {resources: {opensearch: https://pmmpublisher.pps.eosdis.nasa.gov/opensearch, climatology_monthly: https://svs.gsfc.nasa.gov/vis/a000000/a004600/a004631/frames/9600x5400_16x9_30p/MonthlyClimatology/[01-12]_ClimatologyMonthly_032818_9600x5400.tif}, local_data: .}, relative_cropyield: {local_data: ~/climada/data/ISIMIP_crop}, trop_cyclone: {random_seed: 54}}, log_level: WARNING, max_matrix_size: 1000000000},\n",
       " '_comment': this is the climada default configuration, it will be (partially) superseded by the first climada.conf files that are present in the user's home directory and the working directory or its parent directories,\n",
       " 'local_data': {system: ~/climada/data, demo: ~/climada/demo/data, save_dir: ./results},\n",
       " 'exposures': {crop_production: {local_data: ~/climada/data/ISIMIP_crop}, litpop: {resources: {world_bank_inc_group: http://databank.worldbank.org/data/download/site-content/OGHIST.xls}}, spam_agrar: {resources: {spam2005_api_access: https://dataverse.harvard.edu/api/access/datafile/:persistentId?persistentId=doi:10.7910/DVN/DHXBJX/, spam2005_dataset: https://dataverse.harvard.edu/dataset.xhtml?persistentId=doi:10.7910/DVN/DHXBJX}}},\n",
       " 'hazard': {drought: {resources: {spei_file_url: http://digital.csic.es/bitstream/10261/153475/8}}, landslide: {resources: {opensearch: https://pmmpublisher.pps.eosdis.nasa.gov/opensearch, climatology_monthly: https://svs.gsfc.nasa.gov/vis/a000000/a004600/a004631/frames/9600x5400_16x9_30p/MonthlyClimatology/[01-12]_ClimatologyMonthly_032818_9600x5400.tif}, local_data: .}, relative_cropyield: {local_data: ~/climada/data/ISIMIP_crop}, trop_cyclone: {random_seed: 54}},\n",
       " 'log_level': WARNING,\n",
       " 'max_matrix_size': 1000000000}"
      ]
     },
     "execution_count": 10,
     "metadata": {},
     "output_type": "execute_result"
    }
   ],
   "source": [
    "CONFIG.__dict__"
   ]
  },
  {
   "cell_type": "code",
   "execution_count": 9,
   "metadata": {},
   "outputs": [
    {
     "data": {
      "text/plain": [
       "climada.util.config.Config"
      ]
     },
     "execution_count": 9,
     "metadata": {},
     "output_type": "execute_result"
    }
   ],
   "source": [
    "CONFIG.local_data.system.__class__"
   ]
  }
 ],
 "metadata": {
  "kernelspec": {
   "display_name": "Python 3.7.3 64-bit ('climada': conda)",
   "language": "python",
   "name": "python37364bitclimadaconda2bcabf5424a143ed8fd9177a65a9f185"
  },
  "language_info": {
   "codemirror_mode": {
    "name": "ipython",
    "version": 3
   },
   "file_extension": ".py",
   "mimetype": "text/x-python",
   "name": "python",
   "nbconvert_exporter": "python",
   "pygments_lexer": "ipython3",
   "version": "3.7.8"
  }
 },
 "nbformat": 4,
 "nbformat_minor": 4
}
